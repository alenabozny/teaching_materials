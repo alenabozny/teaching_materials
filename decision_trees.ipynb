{
  "nbformat": 4,
  "nbformat_minor": 0,
  "metadata": {
    "colab": {
      "provenance": []
    },
    "kernelspec": {
      "name": "python3",
      "display_name": "Python 3"
    },
    "language_info": {
      "name": "python"
    },
    "gpuClass": "standard"
  },
  "cells": [
    {
      "cell_type": "markdown",
      "source": [
        "Ściągnij plik 'diabetes.csv' z https://www.kaggle.com/datasets/whenamancodes/predict-diabities?resource=download\n",
        "\n",
        "Następnie przenieś go do swojego folderu Google Colab. Poniższe linie kodu służą do połączenia z Twoim dyskiem Google w celu odnalezienia pliku z danymi."
      ],
      "metadata": {
        "id": "n8gOqR34UeoQ"
      }
    },
    {
      "cell_type": "code",
      "source": [
        "from google.colab import drive\n",
        "\n",
        "drive.mount('/content/drive')"
      ],
      "metadata": {
        "id": "cQfi-qfeOjci",
        "colab": {
          "base_uri": "https://localhost:8080/"
        },
        "outputId": "e1d8d839-a016-4f92-c5dd-3e9060369425"
      },
      "execution_count": null,
      "outputs": [
        {
          "output_type": "stream",
          "name": "stdout",
          "text": [
            "Mounted at /content/drive\n"
          ]
        }
      ]
    },
    {
      "cell_type": "code",
      "source": [
        "import pandas as pd\n",
        "from sklearn import tree\n",
        "from sklearn.model_selection import train_test_split"
      ],
      "metadata": {
        "id": "1n-kMyjrWSkI"
      },
      "execution_count": null,
      "outputs": []
    },
    {
      "cell_type": "code",
      "source": [
        "diabetes_data = pd.read_csv('/content/drive/My Drive/Colab Notebooks/diabetes.csv')"
      ],
      "metadata": {
        "id": "AmPA87kSU2xL"
      },
      "execution_count": null,
      "outputs": []
    },
    {
      "cell_type": "code",
      "source": [
        "diabetes_data.head()"
      ],
      "metadata": {
        "colab": {
          "base_uri": "https://localhost:8080/",
          "height": 206
        },
        "id": "ewlJ1_fpWVUY",
        "outputId": "63a43984-27e5-4434-c91b-21d8ac93beaf"
      },
      "execution_count": null,
      "outputs": [
        {
          "output_type": "execute_result",
          "data": {
            "text/plain": [
              "   Pregnancies  Glucose  BloodPressure  SkinThickness  Insulin   BMI  \\\n",
              "0            6      148             72             35        0  33.6   \n",
              "1            1       85             66             29        0  26.6   \n",
              "2            8      183             64              0        0  23.3   \n",
              "3            1       89             66             23       94  28.1   \n",
              "4            0      137             40             35      168  43.1   \n",
              "\n",
              "   DiabetesPedigreeFunction  Age  Outcome  \n",
              "0                     0.627   50        1  \n",
              "1                     0.351   31        0  \n",
              "2                     0.672   32        1  \n",
              "3                     0.167   21        0  \n",
              "4                     2.288   33        1  "
            ],
            "text/html": [
              "\n",
              "  <div id=\"df-1d52a66c-65d2-439f-b883-1386610feaca\">\n",
              "    <div class=\"colab-df-container\">\n",
              "      <div>\n",
              "<style scoped>\n",
              "    .dataframe tbody tr th:only-of-type {\n",
              "        vertical-align: middle;\n",
              "    }\n",
              "\n",
              "    .dataframe tbody tr th {\n",
              "        vertical-align: top;\n",
              "    }\n",
              "\n",
              "    .dataframe thead th {\n",
              "        text-align: right;\n",
              "    }\n",
              "</style>\n",
              "<table border=\"1\" class=\"dataframe\">\n",
              "  <thead>\n",
              "    <tr style=\"text-align: right;\">\n",
              "      <th></th>\n",
              "      <th>Pregnancies</th>\n",
              "      <th>Glucose</th>\n",
              "      <th>BloodPressure</th>\n",
              "      <th>SkinThickness</th>\n",
              "      <th>Insulin</th>\n",
              "      <th>BMI</th>\n",
              "      <th>DiabetesPedigreeFunction</th>\n",
              "      <th>Age</th>\n",
              "      <th>Outcome</th>\n",
              "    </tr>\n",
              "  </thead>\n",
              "  <tbody>\n",
              "    <tr>\n",
              "      <th>0</th>\n",
              "      <td>6</td>\n",
              "      <td>148</td>\n",
              "      <td>72</td>\n",
              "      <td>35</td>\n",
              "      <td>0</td>\n",
              "      <td>33.6</td>\n",
              "      <td>0.627</td>\n",
              "      <td>50</td>\n",
              "      <td>1</td>\n",
              "    </tr>\n",
              "    <tr>\n",
              "      <th>1</th>\n",
              "      <td>1</td>\n",
              "      <td>85</td>\n",
              "      <td>66</td>\n",
              "      <td>29</td>\n",
              "      <td>0</td>\n",
              "      <td>26.6</td>\n",
              "      <td>0.351</td>\n",
              "      <td>31</td>\n",
              "      <td>0</td>\n",
              "    </tr>\n",
              "    <tr>\n",
              "      <th>2</th>\n",
              "      <td>8</td>\n",
              "      <td>183</td>\n",
              "      <td>64</td>\n",
              "      <td>0</td>\n",
              "      <td>0</td>\n",
              "      <td>23.3</td>\n",
              "      <td>0.672</td>\n",
              "      <td>32</td>\n",
              "      <td>1</td>\n",
              "    </tr>\n",
              "    <tr>\n",
              "      <th>3</th>\n",
              "      <td>1</td>\n",
              "      <td>89</td>\n",
              "      <td>66</td>\n",
              "      <td>23</td>\n",
              "      <td>94</td>\n",
              "      <td>28.1</td>\n",
              "      <td>0.167</td>\n",
              "      <td>21</td>\n",
              "      <td>0</td>\n",
              "    </tr>\n",
              "    <tr>\n",
              "      <th>4</th>\n",
              "      <td>0</td>\n",
              "      <td>137</td>\n",
              "      <td>40</td>\n",
              "      <td>35</td>\n",
              "      <td>168</td>\n",
              "      <td>43.1</td>\n",
              "      <td>2.288</td>\n",
              "      <td>33</td>\n",
              "      <td>1</td>\n",
              "    </tr>\n",
              "  </tbody>\n",
              "</table>\n",
              "</div>\n",
              "      <button class=\"colab-df-convert\" onclick=\"convertToInteractive('df-1d52a66c-65d2-439f-b883-1386610feaca')\"\n",
              "              title=\"Convert this dataframe to an interactive table.\"\n",
              "              style=\"display:none;\">\n",
              "        \n",
              "  <svg xmlns=\"http://www.w3.org/2000/svg\" height=\"24px\"viewBox=\"0 0 24 24\"\n",
              "       width=\"24px\">\n",
              "    <path d=\"M0 0h24v24H0V0z\" fill=\"none\"/>\n",
              "    <path d=\"M18.56 5.44l.94 2.06.94-2.06 2.06-.94-2.06-.94-.94-2.06-.94 2.06-2.06.94zm-11 1L8.5 8.5l.94-2.06 2.06-.94-2.06-.94L8.5 2.5l-.94 2.06-2.06.94zm10 10l.94 2.06.94-2.06 2.06-.94-2.06-.94-.94-2.06-.94 2.06-2.06.94z\"/><path d=\"M17.41 7.96l-1.37-1.37c-.4-.4-.92-.59-1.43-.59-.52 0-1.04.2-1.43.59L10.3 9.45l-7.72 7.72c-.78.78-.78 2.05 0 2.83L4 21.41c.39.39.9.59 1.41.59.51 0 1.02-.2 1.41-.59l7.78-7.78 2.81-2.81c.8-.78.8-2.07 0-2.86zM5.41 20L4 18.59l7.72-7.72 1.47 1.35L5.41 20z\"/>\n",
              "  </svg>\n",
              "      </button>\n",
              "      \n",
              "  <style>\n",
              "    .colab-df-container {\n",
              "      display:flex;\n",
              "      flex-wrap:wrap;\n",
              "      gap: 12px;\n",
              "    }\n",
              "\n",
              "    .colab-df-convert {\n",
              "      background-color: #E8F0FE;\n",
              "      border: none;\n",
              "      border-radius: 50%;\n",
              "      cursor: pointer;\n",
              "      display: none;\n",
              "      fill: #1967D2;\n",
              "      height: 32px;\n",
              "      padding: 0 0 0 0;\n",
              "      width: 32px;\n",
              "    }\n",
              "\n",
              "    .colab-df-convert:hover {\n",
              "      background-color: #E2EBFA;\n",
              "      box-shadow: 0px 1px 2px rgba(60, 64, 67, 0.3), 0px 1px 3px 1px rgba(60, 64, 67, 0.15);\n",
              "      fill: #174EA6;\n",
              "    }\n",
              "\n",
              "    [theme=dark] .colab-df-convert {\n",
              "      background-color: #3B4455;\n",
              "      fill: #D2E3FC;\n",
              "    }\n",
              "\n",
              "    [theme=dark] .colab-df-convert:hover {\n",
              "      background-color: #434B5C;\n",
              "      box-shadow: 0px 1px 3px 1px rgba(0, 0, 0, 0.15);\n",
              "      filter: drop-shadow(0px 1px 2px rgba(0, 0, 0, 0.3));\n",
              "      fill: #FFFFFF;\n",
              "    }\n",
              "  </style>\n",
              "\n",
              "      <script>\n",
              "        const buttonEl =\n",
              "          document.querySelector('#df-1d52a66c-65d2-439f-b883-1386610feaca button.colab-df-convert');\n",
              "        buttonEl.style.display =\n",
              "          google.colab.kernel.accessAllowed ? 'block' : 'none';\n",
              "\n",
              "        async function convertToInteractive(key) {\n",
              "          const element = document.querySelector('#df-1d52a66c-65d2-439f-b883-1386610feaca');\n",
              "          const dataTable =\n",
              "            await google.colab.kernel.invokeFunction('convertToInteractive',\n",
              "                                                     [key], {});\n",
              "          if (!dataTable) return;\n",
              "\n",
              "          const docLinkHtml = 'Like what you see? Visit the ' +\n",
              "            '<a target=\"_blank\" href=https://colab.research.google.com/notebooks/data_table.ipynb>data table notebook</a>'\n",
              "            + ' to learn more about interactive tables.';\n",
              "          element.innerHTML = '';\n",
              "          dataTable['output_type'] = 'display_data';\n",
              "          await google.colab.output.renderOutput(dataTable, element);\n",
              "          const docLink = document.createElement('div');\n",
              "          docLink.innerHTML = docLinkHtml;\n",
              "          element.appendChild(docLink);\n",
              "        }\n",
              "      </script>\n",
              "    </div>\n",
              "  </div>\n",
              "  "
            ]
          },
          "metadata": {},
          "execution_count": 9
        }
      ]
    },
    {
      "cell_type": "markdown",
      "source": [
        "Drzewa decyzyjne najlepiej działają dla zbalansowanego zbioru. Sprawdźmy zatem, czy zbiór jest zbalansowany:"
      ],
      "metadata": {
        "id": "2W2D_22XX9HH"
      }
    },
    {
      "cell_type": "code",
      "source": [
        "diabetes_data['Outcome'].value_counts()"
      ],
      "metadata": {
        "colab": {
          "base_uri": "https://localhost:8080/"
        },
        "id": "Rj44f2mvWYrm",
        "outputId": "a7ed106d-9ee3-4be4-9d19-c409e8605570"
      },
      "execution_count": null,
      "outputs": [
        {
          "output_type": "execute_result",
          "data": {
            "text/plain": [
              "0    500\n",
              "1    268\n",
              "Name: Outcome, dtype: int64"
            ]
          },
          "metadata": {},
          "execution_count": 5
        }
      ]
    },
    {
      "cell_type": "code",
      "source": [
        "# Tworzenie zbioru cech X bez kolumny 'Outcome'\n",
        "cols = set(diabetes_data.columns)\n",
        "cols.remove('Outcome')\n",
        "cols = list(cols)\n",
        "X = diabetes_data[cols]\n",
        "\n",
        "# Wyodrębnienie etykiet do klasyfikacji\n",
        "y = diabetes_data['Outcome']\n",
        "\n",
        "# Zbiór testowy i treningowy:\n",
        "X_train, X_test, y_train, y_test = train_test_split(X, y, test_size=0.3)"
      ],
      "metadata": {
        "id": "55PRQPO2Zg2t"
      },
      "execution_count": null,
      "outputs": []
    },
    {
      "cell_type": "code",
      "source": [
        "from collections import Counter\n",
        "\n",
        "print(f\"Training target statistics: {Counter(y_train)}\")\n",
        "print(f\"Testing target statistics: {Counter(y_test)}\")"
      ],
      "metadata": {
        "colab": {
          "base_uri": "https://localhost:8080/"
        },
        "id": "5hQRWNZmaw4c",
        "outputId": "a5a3278a-47d5-487c-947f-666878e91be8"
      },
      "execution_count": null,
      "outputs": [
        {
          "output_type": "stream",
          "name": "stdout",
          "text": [
            "Training target statistics: Counter({0: 353, 1: 184})\n",
            "Testing target statistics: Counter({0: 147, 1: 84})\n"
          ]
        }
      ]
    },
    {
      "cell_type": "markdown",
      "source": [
        "# 1. Zadanie (1 pkt)\n",
        "\n",
        "- a. Zbalansuj zbiór nadpróbkowując mniej liczną klasę.\n",
        "- b. Zbalansuj zbiór podpróbkowując liczniejszą klasę.\n",
        "\n"
      ],
      "metadata": {
        "id": "EYZv8sGkYkwZ"
      }
    },
    {
      "cell_type": "code",
      "source": [
        "# 1a\n",
        "# Twój kod ..."
      ],
      "metadata": {
        "id": "P2ERlqcwYDdW"
      },
      "execution_count": null,
      "outputs": []
    },
    {
      "cell_type": "code",
      "source": [
        "# 1b\n",
        "X_train_res, y_train_res = ..."
      ],
      "metadata": {
        "id": "Y74_MycaZFF5"
      },
      "execution_count": null,
      "outputs": []
    },
    {
      "cell_type": "code",
      "source": [
        "# Sprawdzamy, czy zbiór jest zbalansowany po wykonanej operacji:\n",
        "# Twój kod ..."
      ],
      "metadata": {
        "id": "yYENEqmia5V1"
      },
      "execution_count": null,
      "outputs": []
    },
    {
      "cell_type": "markdown",
      "source": [
        "# 2. Zadanie (3 pkt)\n",
        "\n",
        "Stwórz dwa klasyfikatory typu Drzewo decyzyjne. Skorzystaj z biblioteki scikit-learn. Jeden klasyfikator wytrenuj na niezbalansowanym zbiorze, a drugi na zbalansowanym. Porównaj wyniki."
      ],
      "metadata": {
        "id": "955jTHwpj0VA"
      }
    },
    {
      "cell_type": "code",
      "source": [
        "from sklearn import tree\n",
        "\n",
        "# trening na danych oryginalnych\n",
        "# Twój kod ...\n",
        "cls.fit(X_train)\n",
        "\n",
        "# trening na danych zbalansowanych\n",
        "# Twój kod ...\n",
        "cls.fit(X_train_res)"
      ],
      "metadata": {
        "id": "Fh-svLihbRu0"
      },
      "execution_count": null,
      "outputs": []
    },
    {
      "cell_type": "code",
      "source": [
        "from sklearn.metrics import precision_score\n",
        "from sklearn.metrics import recall_score\n",
        "from sklearn.metrics import f1_score\n",
        "from sklearn.metrics import accuracy_score\n",
        "\n",
        "def print_scores(clf, X_test, y_test, header=\"Dataset statistics:\"):\n",
        "  y_pred = clf.predict(X_test)\n",
        "  print('-------')\n",
        "  print(header)\n",
        "  print('\\n')\n",
        "  print('Precision score %s' % precision_score(y_test, y_pred))\n",
        "  print('Recall score %s' % recall_score(y_test, y_pred))\n",
        "  print('F1-score score %s' % f1_score(y_test, y_pred))\n",
        "  print('Accuracy score %s' % accuracy_score(y_test, y_pred))\n",
        "  \n",
        "# Porównanie wyników:\n",
        "\n",
        "# --- Twój kod\n",
        "# --- Twój kod"
      ],
      "metadata": {
        "id": "ODXRr0uscEzR"
      },
      "execution_count": null,
      "outputs": []
    },
    {
      "cell_type": "markdown",
      "source": [
        "# 3. Zadanie (1 pkt)\n",
        "\n",
        "Wyrysuj stworzone drzewo decyzyjne. Czy uważasz, że wybrana przez algorytm struktura jest optymalna? Czy daje dobre wyniki?"
      ],
      "metadata": {
        "id": "_7urV2MskOCx"
      }
    },
    {
      "cell_type": "code",
      "source": [
        "from matplotlib import pyplot as plt\n",
        "\n",
        "# Wyrysuj drzewo\n",
        "# --- Twój kod"
      ],
      "metadata": {
        "id": "AUOJ8LxScmIV"
      },
      "execution_count": null,
      "outputs": []
    },
    {
      "cell_type": "markdown",
      "source": [
        "# 4. Zadanie (2 pkt)\n",
        "\n",
        "Jakie znasz metody na optymalizację struktury drzewa? Czemu pozwalają zapobiec?\n",
        "Wypisz tutaj te metody, a następnie wdróż je trenując nowy klasyfikator.\n",
        "\n",
        "*(Twoja odpowiedź)* Metody optymalizacji struktury drzewa:\n",
        "1. ..\n",
        "2. ..\n",
        "\n",
        "..."
      ],
      "metadata": {
        "id": "OQ_ZYNnglBKb"
      }
    },
    {
      "cell_type": "code",
      "source": [
        "# Nowy klasyfikator - wytrenuj i wypisz wyniki\n",
        "# Twój kod ..."
      ],
      "metadata": {
        "id": "z2RbLSKneLkf"
      },
      "execution_count": null,
      "outputs": []
    },
    {
      "cell_type": "markdown",
      "source": [
        "# 5. Zadanie (1 pkt)\n",
        "\n",
        "Poeksperymentuj z parametrami związanymi z metodami, które wypisałeś_aś w poprzednim zadaniu. Wybierz najlepszy zestaw parametrów i po raz kolejny wyrysuj drzewo."
      ],
      "metadata": {
        "id": "qfAj2XO3lyMT"
      }
    },
    {
      "cell_type": "code",
      "source": [
        "# Wyrysuj nowe drzewo:"
      ],
      "metadata": {
        "id": "t0NqH1PZgZ56"
      },
      "execution_count": null,
      "outputs": []
    },
    {
      "cell_type": "markdown",
      "source": [
        "### Lasy losowe\n",
        "\n",
        "# 6. Zadanie (2 pkt) \n",
        "\n",
        "Stwórz klasyfikator oparty o lasy losowe i sprawdź, jak polepszyło to klasyfikację Cukrzycy. Czy dobrane w poprzednim zadaniu parametry sprawdzają się przy lasach losowych?"
      ],
      "metadata": {
        "id": "4z_xtEn6hcC3"
      }
    },
    {
      "cell_type": "code",
      "source": [
        "# Twój kod ..."
      ],
      "metadata": {
        "id": "_-VQk4XVhodK"
      },
      "execution_count": null,
      "outputs": []
    },
    {
      "cell_type": "markdown",
      "source": [
        "# *7. Zadanie (1 pkt)\n",
        "\n",
        "Znajdź na Kaggle zbiór danych, w których znajdują się zmienne kategoryczne. Czy drzewo decyzyjne w scikit-learn radzi sobie z takimi wartościami? Jeżeli nie, jak można obejść ten problem? Napisz odpowiednią funkcję."
      ],
      "metadata": {
        "id": "BDnheZHymj1c"
      }
    },
    {
      "cell_type": "code",
      "source": [
        "def categorical_to_numerical(df):\n",
        "  df_mod = pd.DataFrame()\n",
        "  '''\n",
        "    INPUT: Data frame of feature values. It may contain categorical variables.\n",
        "    OUTPUT: Modified data frame with categorical variables encoded as numerical.\n",
        "  '''\n",
        "  # Twój kod\n",
        "  return df_mod"
      ],
      "metadata": {
        "id": "R_C6GzBInAjv"
      },
      "execution_count": null,
      "outputs": []
    },
    {
      "cell_type": "markdown",
      "source": [
        "#*8. Zadanie (1 pkt)\n",
        "\n",
        "Znajdź na Kaggle lub w scikit-learn zbiór danych do regresji (np. House Prices prediction). Pobierz go i zbuduj drzewo regresyjne."
      ],
      "metadata": {
        "id": "Wo4kd1AHngJQ"
      }
    },
    {
      "cell_type": "code",
      "source": [
        "# Data Frame z danymi:\n",
        "# Twój kod ...\n",
        "\n",
        "# Drzewo regresyjne:\n",
        "# Twój kod ..."
      ],
      "metadata": {
        "id": "5FG4lNLvnwfU"
      },
      "execution_count": null,
      "outputs": []
    },
    {
      "cell_type": "markdown",
      "source": [
        "# Maksymalna liczba punktów do uzyskania z laboratorium: 12/10 :)"
      ],
      "metadata": {
        "id": "92mvOVh8oBbA"
      }
    }
  ]
}